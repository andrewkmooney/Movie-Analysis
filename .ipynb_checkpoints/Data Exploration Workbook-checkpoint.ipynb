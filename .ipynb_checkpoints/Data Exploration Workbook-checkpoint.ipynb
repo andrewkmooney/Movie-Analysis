{
 "cells": [
  {
   "cell_type": "markdown",
   "metadata": {},
   "source": [
    "# Plan of Attack\n",
    "\n",
    "Attributes of content to consider - runtime, genre, actors cast, type of title. We always want to correlate to box office gross first. Second indicator? Budget? Profitability?\n",
    "\n",
    "professional_names_df - is our basic crew information. Actor information (living or dead) as well as known for titles in IMDB naming convention.\n",
    "\n",
    "title_key_df is movie title_ID (use as key to translate across dataframes?) We also know 'region' but no indication of what that is, and language.\n",
    "\n",
    "imdb_genres_df is movies by runtime and genre, also year it was released. This could be very useful. genre_list has a full list of all categories, lots of null values\n",
    "\n",
    "box_gross_df is movies by gross from 2010-2018 \n",
    "\n",
    "crew_df is movie set job I think?\n",
    "\n",
    "directors_df is directors and writers, but by IMDB ID - need to convert\n",
    "\n",
    "imdb_ratings_df is audience reviews and number of reviews by movie - added primary titles. No num values.\n",
    "\n",
    "rt_details_df is Rotten Tomatoes basic info about movies - includes genres as well\n",
    "\n",
    "rt_reviews_df is Rotten Tomatoes reviews by movie - includes fresh/rotten - 9 duplicates\n",
    "\n",
    "tmdb_df is TMDB ratings on 25000 movies - looks super helpful\n",
    "\n",
    "budget_df is a list of movie budgets and grosses. Combine with df_4 to create the best list of Y values for future visualizations\n",
    "\n",
    "## Current Data Points\n",
    "- Domestic Box Office Gross\n",
    "- Foreign Box Office Gross\n",
    "- Actors by movie\n",
    "- Directors by movie\n",
    "- Producers by movie\n",
    "- Writers by movie\n",
    "- Movie Runtime\n",
    "- Studio\n",
    "- IMDB ratings\n",
    "- RT freshness\n",
    "- TMDB Popularity\n",
    "- TMDB vote count, vote average\n",
    "- Production budget vs. gross\n",
    "\n",
    "## Initial Questions\n",
    "- What genres produce the most popularity AND the most positive audience votes?\n",
    "- What directors/writers/producers have the best ROI?\n",
    "- What actors have the most popularity and/or box office gross?\n",
    "- Is there an ideal movie budget to maximize ROI by genre?\n",
    "\n",
    "\n",
    "## To Do By Question\n",
    "\n",
    "#### General Data Cleaning\n",
    "- Create DataFrame with following columns: \n",
    "- Movie Title \n",
    "- IMDB Code \n",
    "- Directors \n",
    "- Writers  \n",
    "- Producers\n",
    "- IMDB vote count\n",
    "- IMDB vote score\n",
    "- TMDB vote count\n",
    "- TMDB vote score\n",
    "- RT Freshness\n",
    "- Popularity\n",
    "- Domestic Gross\n",
    "- Budget\n",
    "- Foreign Gross\n",
    "- Genres\n",
    "- Studio?\n",
    "- (Top 3 Actors?)\n",
    "\n",
    "#### What genres produce the most popularity AND the most positive audience votes?\n",
    "\n",
    "- df_11 vs. df_10 - popularity and budget\n",
    "- df_11 w/ df_2 w/ df_7 - IMDB votes\n",
    "- Parse out Genres - map function?\n",
    "- Parse out directors/writers/producers\n",
    "- Actors???\n",
    "- turn all budget info into float64 in terms of millions\n"
   ]
  },
  {
   "cell_type": "code",
   "execution_count": null,
   "metadata": {},
   "outputs": [],
   "source": [
    "#Isolate and clean Popularity\n",
    "#Link popularity, RT freshness, IMDB vount data"
   ]
  },
  {
   "cell_type": "code",
   "execution_count": 1,
   "metadata": {},
   "outputs": [],
   "source": [
    "# Import required libraries\n",
    "import pandas as pd\n",
    "import numpy as np\n",
    "import seaborn as sns\n",
    "import matplotlib.pyplot as plt\n",
    "%matplotlib inline"
   ]
  },
  {
   "cell_type": "code",
   "execution_count": 2,
   "metadata": {},
   "outputs": [],
   "source": [
    "# Import all data files. Key to what's in files included in README at top of notebook.\n",
    "\n",
    "professional_names_df = pd.read_csv('zippedData/imdb.name.basics.csv.gz')\n",
    "title_key_df = pd.read_csv('zippedData/imdb.title.akas.csv.gz')\n",
    "imdb_genres_df = pd.read_csv('zippedData/imdb.title.basics.csv.gz')\n",
    "box_gross_df = pd.read_csv('zippedData/bom.movie_gross.csv.gz')\n",
    "crew_df = pd.read_csv('zippedData/imdb.title.principals.csv.gz')\n",
    "directors_df = pd.read_csv('zippedData/imdb.title.crew.csv.gz')\n",
    "imdb_ratings_df = pd.read_csv('zippedData/imdb.title.ratings.csv.gz')\n",
    "rt_details_df = pd.read_csv('zippedData/rt.movie_info.tsv.gz',delimiter='\\t')\n",
    "rt_reviews_df = pd.read_csv('zippedData/rt.reviews.tsv.gz', compression='gzip', delimiter='\\t', encoding='iso-8859-1')\n",
    "tmdb_df = pd.read_csv('zippedData/tmdb.movies.csv.gz')\n",
    "budget_df = pd.read_csv('zippedData/tn.movie_budgets.csv.gz')"
   ]
  },
  {
   "cell_type": "code",
   "execution_count": 3,
   "metadata": {},
   "outputs": [],
   "source": [
    "def clean_title(title):\n",
    "    \n",
    "    '''\n",
    "    Takes a string and normalizes it by removing excess symbols that could be ambiguous\n",
    "    Also removes any dates attached to titles\n",
    "    '''\n",
    "    \n",
    "    c_title = ''\n",
    "    l_title = title.lower()\n",
    "    \n",
    "    word_list = l_title.split()\n",
    "    \n",
    "    for word in word_list:\n",
    "        word = word.replace('?','')\n",
    "        word = word.replace('/','')\n",
    "        word = word.replace('!','')\n",
    "        word = word.replace('–','')\n",
    "        word = word.replace('-','')\n",
    "        word = word.replace('&','and')\n",
    "        word = word.replace('ep.','episode')\n",
    "        word = word.replace(':','')\n",
    "        word = word.replace(',','')\n",
    "        word = word.replace('.','')\n",
    "        word = word.replace(\"'\",\"\")\n",
    "        word = word.replace(\"`\",'')\n",
    "        \n",
    "        c_title += word.title()\n",
    "    \n",
    "    return c_title"
   ]
  },
  {
   "cell_type": "code",
   "execution_count": 16,
   "metadata": {},
   "outputs": [],
   "source": [
    "# def separate_unique_values(df,column,splitter=None):\n",
    "    \n",
    "#     \"\"\"\n",
    "#     Takes a dataframe and a column then splits it into a set of unique elements.\n",
    "#     Includes all elements, including non-objects (e.g. nan)\n",
    "#     Column must be a string\n",
    "#     Default splits by spaces\n",
    "#     \"\"\"\n",
    "    \n",
    "#     value_list = []\n",
    "    \n",
    "#     for item in df[column]:\n",
    "#         if type(item) == str: \n",
    "#             item_list = item.split(splitter)\n",
    "#             for item in item_list:\n",
    "#                 value_list.append(item)\n",
    "#         else:\n",
    "#             value_list.append(item)\n",
    "    \n",
    "#     return set(value_list)"
   ]
  },
  {
   "cell_type": "code",
   "execution_count": 4,
   "metadata": {},
   "outputs": [],
   "source": [
    "def separate_values(string):\n",
    "    '''\n",
    "    Splits any string by a comma and then returns a list of values\n",
    "    '''\n",
    "    if type(string) == str:\n",
    "        value_list = string.split(',')\n",
    "    else:\n",
    "        return string\n",
    "    \n",
    "    return value_list"
   ]
  },
  {
   "cell_type": "code",
   "execution_count": null,
   "metadata": {},
   "outputs": [],
   "source": []
  },
  {
   "cell_type": "code",
   "execution_count": 59,
   "metadata": {},
   "outputs": [],
   "source": [
    "# def clean_title2(title):\n",
    "    \n",
    "#     '''\n",
    "#     Takes a string and normalizes it by removing excess symbols that could be ambiguous\n",
    "#     Also removes any dates attached to titles\n",
    "#     '''\n",
    "#     new_title = title.replace('Ep.','Episode')\n",
    "#     new_title = title.replace('&','and')\n",
    "#     new_title = new_title.split('(')[0]\n",
    "#     new_string = re.sub(\"[^0-9a-zA-Z]+\", \"?\", new_title)\n",
    "#     c_title = new_string.replace('?','')\n",
    "#     return c_title"
   ]
  },
  {
   "cell_type": "code",
   "execution_count": 5,
   "metadata": {},
   "outputs": [],
   "source": [
    "def clean_money(string):\n",
    "    '''\n",
    "    Takes money objects and turns it into a float\n",
    "    '''\n",
    "    if type(string) == str:\n",
    "        answer = string.replace('$','')\n",
    "        answer = answer.replace(',','')\n",
    "        answer = float(answer)\n",
    "    else:\n",
    "        return string\n",
    "    return answer"
   ]
  },
  {
   "cell_type": "code",
   "execution_count": 6,
   "metadata": {},
   "outputs": [],
   "source": [
    "# Creates the IMDB table to add to other tables. \n",
    "imdb_genres_df.rename(columns={'tconst':'title_id'},inplace=True)\n",
    "imdb_df = title_key_df.merge(imdb_genres_df,how='left',on='title_id')\n",
    "imdb_df = imdb_df.loc[:,['title_id','title','primary_title','start_year','runtime_minutes','genres']]\n",
    "imdb_df['clean_title'] = imdb_df.title.map(lambda x: clean_title(x))\n",
    "\n",
    "#Renames columns to clean. Splits genres into a list that can be parsed later.\n",
    "imdb_df.rename(columns={'start_year':'year','runtime_minutes':'runtime'},inplace=True)\n"
   ]
  },
  {
   "cell_type": "code",
   "execution_count": 7,
   "metadata": {},
   "outputs": [],
   "source": [
    "#Join box office gross to IMDB t_const - #Start with 3387 - goes to 2680\n",
    "box_gross_df['clean_title'] = box_gross_df.title.map(lambda x: clean_title(x))\n",
    "box_gross_tconst_df = box_gross_df.merge(imdb_df, how='left',on='clean_title')\n",
    "\n",
    "box_gross_tconst_df.drop_duplicates(inplace=True)\n",
    "box_gross_tconst_df.dropna(subset=['title_id'], inplace=True)\n",
    "box_gross_tconst_df.drop_duplicates(subset=['title_id'], inplace=True)\n",
    "box_gross_tconst_df.drop_duplicates(subset=['title_x'], inplace=True)\n",
    "box_gross_tconst_df.drop(columns=['title_y','year_y'], inplace = True)\n",
    "box_gross_tconst_df.rename(columns={'title_x':'title','year_x':'year'},inplace=True)\n",
    "\n",
    "#Fixes foreign gross from string to float\n",
    "box_gross_tconst_df.foreign_gross = box_gross_tconst_df.foreign_gross.map(lambda x: clean_money(x) if type(x) == str else x)\n",
    "box_gross_tconst_df.foreign_gross.astype('float64')\n",
    "box_gross_final = box_gross_tconst_df"
   ]
  },
  {
   "cell_type": "code",
   "execution_count": 8,
   "metadata": {},
   "outputs": [],
   "source": [
    "#Joins budget table with IMDB t-const - Goes from 5782 records to 4069\n",
    "budget_df.rename(columns={'movie':'title'},inplace=True)\n",
    "budget_df['clean_title'] = budget_df.title.map(lambda x: clean_title(x))\n",
    "budget_tconst_df = budget_df.merge(imdb_df, how='left',on='clean_title')\n",
    "budget_tconst_df.drop_duplicates(inplace=True)\n",
    "budget_tconst_df.drop(columns='title_y',inplace = True)\n",
    "budget_tconst_df.rename(columns={'title_x':'title'},inplace=True)\n",
    "budget_tconst_df.drop_duplicates(subset='title_id',inplace = True)\n",
    "\n",
    "#Turns money columns into floats from objects\n",
    "budget_tconst_df['production_budget'] = budget_tconst_df.production_budget.map(lambda x: clean_money(x)) \n",
    "budget_tconst_df['domestic_gross'] = budget_tconst_df.domestic_gross.map(lambda x: clean_money(x))\n",
    "budget_tconst_df['worldwide_gross'] = budget_tconst_df.worldwide_gross.map(lambda x: clean_money(x))\n",
    "final_budget_df = budget_tconst_df"
   ]
  },
  {
   "cell_type": "code",
   "execution_count": 9,
   "metadata": {
    "scrolled": true
   },
   "outputs": [
    {
     "data": {
      "image/png": "[encoded data removed]",
      "text/plain": [
       "<Figure size 1080x720 with 1 Axes>"
      ]
     },
     "metadata": {
      "needs_background": "light"
     },
     "output_type": "display_data"
    }
   ],
   "source": [
    "#Creates an ROI column for films and creates a column with a boolean value based on whether or not it's profitable\n",
    "final_budget_df['ROI'] = final_budget_df['worldwide_gross'] + final_budget_df['domestic_gross'] - final_budget_df['production_budget']\n",
    "budget_ROI_df = final_budget_df.sort_values(by='ROI',ascending=False)\n",
    "budget_ROI_df['Profitable'] = budget_ROI_df.ROI.map(lambda x: x>0)\n",
    "\n",
    "\n",
    "x_values = list(budget_ROI_df.title[:20])[::-1]\n",
    "y_values = list(budget_ROI_df.ROI[:20])[::-1]\n",
    "\n",
    "plt.figure(figsize=(15,10))\n",
    "plt.barh(y=x_values, width=y_values)\n",
    "plt.xlabel('ROI in Dollars')\n",
    "plt.title('Movie by ROI');"
   ]
  },
  {
   "cell_type": "code",
   "execution_count": 10,
   "metadata": {},
   "outputs": [
    {
     "name": "stdout",
     "output_type": "stream",
     "text": [
      "<class 'pandas.core.frame.DataFrame'>\n",
      "Int64Index: 20827 entries, 0 to 49471\n",
      "Data columns (total 5 columns):\n",
      "popularity      20827 non-null float64\n",
      "vote_average    20827 non-null float64\n",
      "vote_count      20827 non-null int64\n",
      "clean_title     20827 non-null object\n",
      "title_id        20827 non-null object\n",
      "dtypes: float64(2), int64(1), object(2)\n",
      "memory usage: 976.3+ KB\n"
     ]
    }
   ],
   "source": [
    "# Need to use imdb df not clean title key\n",
    "#26905 to 20827 unique t-constants\n",
    "tmdb_df['clean_title'] = tmdb_df.title.map(lambda x: clean_title(x))\n",
    "tmdb_tconst_df = tmdb_df.merge(imdb_df,how='inner',on='clean_title')\n",
    "tmdb_tconst_df.drop_duplicates(subset='title_id',inplace=True)\n",
    "tmdb_clean_df = tmdb_tconst_df.loc[:, ['popularity','vote_average','vote_count','clean_title','title_id']]\n",
    "tmdb_clean_df.info()"
   ]
  },
  {
   "cell_type": "code",
   "execution_count": 11,
   "metadata": {},
   "outputs": [],
   "source": [
    "#Creates Super_Df that contains ROI, popularity, vote counts.\n",
    "imdb_ratings_df.rename(columns={'tconst':'title_id'},inplace=True)\n",
    "super_df = budget_ROI_df.merge(tmdb_clean_df,how='left',on='title_id')\n",
    "super_df = super_df.merge(imdb_ratings_df,how='left',on='title_id')\n"
   ]
  },
  {
   "cell_type": "code",
   "execution_count": 12,
   "metadata": {},
   "outputs": [],
   "source": [
    "super_df.drop(columns=['clean_title_y'],inplace=True)"
   ]
  },
  {
   "cell_type": "code",
   "execution_count": 13,
   "metadata": {},
   "outputs": [
    {
     "data": {
      "image/png": "[encoded data removed]",
      "text/plain": [
       "<Figure size 504x504 with 1 Axes>"
      ]
     },
     "metadata": {
      "needs_background": "light"
     },
     "output_type": "display_data"
    }
   ],
   "source": [
    "figure = plt.figure(figsize=(7,7))\n",
    "\n",
    "sns.scatterplot(x=super_df.ROI,y=super_df.popularity, data=super_df, hue='Profitable');"
   ]
  },
  {
   "cell_type": "code",
   "execution_count": 14,
   "metadata": {},
   "outputs": [
    {
     "data": {
      "image/png": "[encoded data removed]",
      "text/plain": [
       "<Figure size 504x504 with 1 Axes>"
      ]
     },
     "metadata": {
      "needs_background": "light"
     },
     "output_type": "display_data"
    }
   ],
   "source": [
    "figure = plt.figure(figsize=(7,7))\n",
    "\n",
    "sns.scatterplot(x=super_df.popularity, y=super_df.averagerating, data=super_df, hue='Profitable');"
   ]
  },
  {
   "cell_type": "code",
   "execution_count": 15,
   "metadata": {},
   "outputs": [
    {
     "data": {
      "image/png": "[encoded data removed]",
      "text/plain": [
       "<Figure size 504x504 with 1 Axes>"
      ]
     },
     "metadata": {
      "needs_background": "light"
     },
     "output_type": "display_data"
    }
   ],
   "source": [
    "figure = plt.figure(figsize=(7,7))\n",
    "\n",
    "sns.scatterplot(x=super_df.production_budget, y=super_df.vote_count, data=super_df, hue='Profitable');"
   ]
  },
  {
   "cell_type": "code",
   "execution_count": 16,
   "metadata": {},
   "outputs": [
    {
     "data": {
      "image/png": "[encoded data removed]",
      "text/plain": [
       "<Figure size 504x504 with 1 Axes>"
      ]
     },
     "metadata": {
      "needs_background": "light"
     },
     "output_type": "display_data"
    }
   ],
   "source": [
    "figure = plt.figure(figsize=(7,7))\n",
    "\n",
    "sns.regplot(x=super_df.production_budget, y=super_df.domestic_gross, data=super_df);"
   ]
  },
  {
   "cell_type": "code",
   "execution_count": 20,
   "metadata": {},
   "outputs": [],
   "source": [
    "# Create Columns By Genre for Super_Df\n"
   ]
  },
  {
   "cell_type": "code",
   "execution_count": 28,
   "metadata": {},
   "outputs": [],
   "source": [
    "#Creates list of genres from the IMDB dataframes\n",
    "genre_list = list(super_df.genres)\n",
    "genre_list2 = []\n",
    "\n",
    "#iterates through the list and adds the genres to a set to get a set of unique values\n",
    "for item in genre_list:\n",
    "    if type(item) == str:\n",
    "        new_list = item.split(',')\n",
    "        for genre in new_list:\n",
    "            genre_list2.append(genre)\n",
    "\n",
    "genre_set = set(genre_list2)\n"
   ]
  },
  {
   "cell_type": "code",
   "execution_count": 39,
   "metadata": {},
   "outputs": [],
   "source": [
    "# drops 36 films that do not have genres\n",
    "super_df.dropna(subset=['genres'],inplace=True)"
   ]
  },
  {
   "cell_type": "code",
   "execution_count": 47,
   "metadata": {},
   "outputs": [
    {
     "name": "stdout",
     "output_type": "stream",
     "text": [
      "<class 'pandas.core.frame.DataFrame'>\n",
      "Int64Index: 4033 entries, 0 to 4068\n",
      "Data columns (total 43 columns):\n",
      "id                   4033 non-null int64\n",
      "release_date         4033 non-null object\n",
      "title                4033 non-null object\n",
      "production_budget    4033 non-null float64\n",
      "domestic_gross       4033 non-null float64\n",
      "worldwide_gross      4033 non-null float64\n",
      "clean_title_x        4033 non-null object\n",
      "title_id             4033 non-null object\n",
      "primary_title        4033 non-null object\n",
      "year                 4033 non-null float64\n",
      "runtime              3676 non-null float64\n",
      "genres               4033 non-null object\n",
      "ROI                  4033 non-null float64\n",
      "Profitable           4033 non-null bool\n",
      "popularity           3246 non-null float64\n",
      "vote_average         3246 non-null float64\n",
      "vote_count           3246 non-null float64\n",
      "averagerating        3365 non-null float64\n",
      "numvotes             3365 non-null float64\n",
      "Romance              4033 non-null bool\n",
      "Sci-Fi               4033 non-null bool\n",
      "Horror               4033 non-null bool\n",
      "Comedy               4033 non-null bool\n",
      "Thriller             4033 non-null bool\n",
      "Animation            4033 non-null bool\n",
      "History              4033 non-null bool\n",
      "Biography            4033 non-null bool\n",
      "Crime                4033 non-null bool\n",
      "Adventure            4033 non-null bool\n",
      "Western              4033 non-null bool\n",
      "Sport                4033 non-null bool\n",
      "Drama                4033 non-null bool\n",
      "News                 4033 non-null bool\n",
      "Documentary          4033 non-null bool\n",
      "Musical              4033 non-null bool\n",
      "War                  4033 non-null bool\n",
      "Fantasy              4033 non-null bool\n",
      "Family               4033 non-null bool\n",
      "Mystery              4033 non-null bool\n",
      "Reality-TV           4033 non-null bool\n",
      "Music                4033 non-null bool\n",
      "Action               4033 non-null bool\n",
      "genre_count          4033 non-null int64\n",
      "dtypes: bool(24), float64(11), int64(2), object(6)\n",
      "memory usage: 724.7+ KB\n"
     ]
    }
   ],
   "source": [
    "super_df.info()"
   ]
  },
  {
   "cell_type": "code",
   "execution_count": 41,
   "metadata": {},
   "outputs": [],
   "source": [
    "# creates a column for each genre populated with a boolean value if it is in the genre list for that movie.\n",
    "for genre in list(genre_set):\n",
    "    super_df[f'{genre}'] = super_df.genres.map(lambda x: genre in x)"
   ]
  },
  {
   "cell_type": "code",
   "execution_count": 43,
   "metadata": {},
   "outputs": [],
   "source": [
    "# splits the genres into a list, counts the list and adds a column with the number of genres in list\n",
    "super_df['genres'] = super_df.genres.map(lambda x: separate_values(x))\n",
    "super_df['genre_count'] = super_df.genres.map(lambda x: len(x))"
   ]
  },
  {
   "cell_type": "code",
   "execution_count": 52,
   "metadata": {},
   "outputs": [
    {
     "data": {
      "text/html": [
       "<div>\n",
       "<style scoped>\n",
       "    .dataframe tbody tr th:only-of-type {\n",
       "        vertical-align: middle;\n",
       "    }\n",
       "\n",
       "    .dataframe tbody tr th {\n",
       "        vertical-align: top;\n",
       "    }\n",
       "\n",
       "    .dataframe thead th {\n",
       "        text-align: right;\n",
       "    }\n",
       "</style>\n",
       "<table border=\"1\" class=\"dataframe\">\n",
       "  <thead>\n",
       "    <tr style=\"text-align: right;\">\n",
       "      <th></th>\n",
       "      <th>ROI</th>\n",
       "      <th>popularity</th>\n",
       "      <th>averagerating</th>\n",
       "      <th>vote_average</th>\n",
       "    </tr>\n",
       "    <tr>\n",
       "      <th>genre_count</th>\n",
       "      <th></th>\n",
       "      <th></th>\n",
       "      <th></th>\n",
       "      <th></th>\n",
       "    </tr>\n",
       "  </thead>\n",
       "  <tbody>\n",
       "    <tr>\n",
       "      <th>1</th>\n",
       "      <td>6.524940e+07</td>\n",
       "      <td>5.979803</td>\n",
       "      <td>6.193533</td>\n",
       "      <td>6.041695</td>\n",
       "    </tr>\n",
       "    <tr>\n",
       "      <th>2</th>\n",
       "      <td>7.079560e+07</td>\n",
       "      <td>7.596491</td>\n",
       "      <td>6.119880</td>\n",
       "      <td>6.098002</td>\n",
       "    </tr>\n",
       "    <tr>\n",
       "      <th>3</th>\n",
       "      <td>1.445856e+08</td>\n",
       "      <td>10.765634</td>\n",
       "      <td>6.227584</td>\n",
       "      <td>6.101282</td>\n",
       "    </tr>\n",
       "  </tbody>\n",
       "</table>\n",
       "</div>"
      ],
      "text/plain": [
       "                      ROI  popularity  averagerating  vote_average\n",
       "genre_count                                                       \n",
       "1            6.524940e+07    5.979803       6.193533      6.041695\n",
       "2            7.079560e+07    7.596491       6.119880      6.098002\n",
       "3            1.445856e+08   10.765634       6.227584      6.101282"
      ]
     },
     "execution_count": 52,
     "metadata": {},
     "output_type": "execute_result"
    }
   ],
   "source": [
    "# Groups by number of genres and giveds the mean popularity, rating and vote average\n",
    "super_df[['ROI','popularity','averagerating','vote_average','genre_count']].groupby(by=['genre_count']).mean().sort_values(by='ROI')"
   ]
  },
  {
   "cell_type": "code",
   "execution_count": 53,
   "metadata": {},
   "outputs": [
    {
     "data": {
      "text/html": [
       "<div>\n",
       "<style scoped>\n",
       "    .dataframe tbody tr th:only-of-type {\n",
       "        vertical-align: middle;\n",
       "    }\n",
       "\n",
       "    .dataframe tbody tr th {\n",
       "        vertical-align: top;\n",
       "    }\n",
       "\n",
       "    .dataframe thead th {\n",
       "        text-align: right;\n",
       "    }\n",
       "</style>\n",
       "<table border=\"1\" class=\"dataframe\">\n",
       "  <thead>\n",
       "    <tr style=\"text-align: right;\">\n",
       "      <th></th>\n",
       "      <th>ROI</th>\n",
       "      <th>popularity</th>\n",
       "      <th>averagerating</th>\n",
       "      <th>vote_average</th>\n",
       "    </tr>\n",
       "    <tr>\n",
       "      <th>genre_count</th>\n",
       "      <th></th>\n",
       "      <th></th>\n",
       "      <th></th>\n",
       "      <th></th>\n",
       "    </tr>\n",
       "  </thead>\n",
       "  <tbody>\n",
       "    <tr>\n",
       "      <th>1</th>\n",
       "      <td>8948089.0</td>\n",
       "      <td>4.944</td>\n",
       "      <td>6.3</td>\n",
       "      <td>6.1</td>\n",
       "    </tr>\n",
       "    <tr>\n",
       "      <th>2</th>\n",
       "      <td>16505642.0</td>\n",
       "      <td>7.493</td>\n",
       "      <td>6.2</td>\n",
       "      <td>6.2</td>\n",
       "    </tr>\n",
       "    <tr>\n",
       "      <th>3</th>\n",
       "      <td>40150514.0</td>\n",
       "      <td>9.481</td>\n",
       "      <td>6.3</td>\n",
       "      <td>6.2</td>\n",
       "    </tr>\n",
       "  </tbody>\n",
       "</table>\n",
       "</div>"
      ],
      "text/plain": [
       "                    ROI  popularity  averagerating  vote_average\n",
       "genre_count                                                     \n",
       "1             8948089.0       4.944            6.3           6.1\n",
       "2            16505642.0       7.493            6.2           6.2\n",
       "3            40150514.0       9.481            6.3           6.2"
      ]
     },
     "execution_count": 53,
     "metadata": {},
     "output_type": "execute_result"
    }
   ],
   "source": [
    "# Groups by number of genres and giveds the mean popularity, rating and vote average\n",
    "super_df[['ROI','popularity','averagerating','vote_average','genre_count']].groupby(by=['genre_count']).median().sort_values(by='ROI')\n"
   ]
  },
  {
   "cell_type": "code",
   "execution_count": 54,
   "metadata": {
    "scrolled": true
   },
   "outputs": [
    {
     "data": {
      "image/png": "[encoded data removed]",
      "text/plain": [
       "<Figure size 504x360 with 1 Axes>"
      ]
     },
     "metadata": {
      "needs_background": "light"
     },
     "output_type": "display_data"
    }
   ],
   "source": [
    "plt.figure(figsize=(7,5))\n",
    "\n",
    "sns.scatterplot(x=super_df.popularity,y=super_df.ROI, data=super_df, hue='genre_count');"
   ]
  },
  {
   "cell_type": "code",
   "execution_count": 83,
   "metadata": {},
   "outputs": [],
   "source": [
    "#Creates separate dataframes for each genre count category for cleaning and manipulation\n",
    "single_genre = super_df[['title','ROI','popularity','averagerating','vote_average','genre_count']].loc[super_df.genre_count== 1].sort_values(by=['ROI'],ascending=False)\n",
    "double_genre = super_df[['title','ROI','popularity','averagerating','vote_average','genre_count']].loc[super_df.genre_count== 2].sort_values(by=['ROI'],ascending=False)\n",
    "triple_genre = super_df[['title','ROI','popularity','averagerating','vote_average','genre_count']].loc[super_df.genre_count== 3].sort_values(by=['ROI'],ascending=False)\n"
   ]
  },
  {
   "cell_type": "code",
   "execution_count": 84,
   "metadata": {},
   "outputs": [],
   "source": [
    "\n",
    "single_genre.drop_duplicates(subset=['title'],inplace=True)\n",
    "single_short = single_genre.iloc[:,:50]"
   ]
  },
  {
   "cell_type": "code",
   "execution_count": 106,
   "metadata": {},
   "outputs": [],
   "source": [
    "super_df['genre_list'] = super_df['genres']\n",
    "super_df['genres'] = super_df.genres.map(lambda x: revert_genres(x))"
   ]
  },
  {
   "cell_type": "code",
   "execution_count": 104,
   "metadata": {},
   "outputs": [],
   "source": [
    "def revert_genres(list):\n",
    "    \n",
    "    string = ''\n",
    "    \n",
    "    for item in list:\n",
    "        string += item + ','\n",
    "        \n",
    "    string = string[:-1]\n",
    "    \n",
    "    return string"
   ]
  },
  {
   "cell_type": "code",
   "execution_count": 115,
   "metadata": {},
   "outputs": [
    {
     "data": {
      "text/plain": [
       "Drama                       508\n",
       "Documentary                 252\n",
       "Comedy                      157\n",
       "Comedy,Drama                127\n",
       "Horror                      105\n",
       "                           ... \n",
       "Documentary,Western           1\n",
       "Action,Documentary,Drama      1\n",
       "Drama,War,Western             1\n",
       "Comedy,Sport                  1\n",
       "Comedy,Romance,Thriller       1\n",
       "Name: genres, Length: 372, dtype: int64"
      ]
     },
     "execution_count": 115,
     "metadata": {},
     "output_type": "execute_result"
    }
   ],
   "source": [
    "super_df.genres.value_counts()"
   ]
  },
  {
   "cell_type": "code",
   "execution_count": 121,
   "metadata": {},
   "outputs": [],
   "source": [
    "pop_df = super_df.sort_values(by=['popularity'], ascending=False)"
   ]
  },
  {
   "cell_type": "code",
   "execution_count": 124,
   "metadata": {},
   "outputs": [],
   "source": [
    "s_pop_df = pop_df.iloc[:100]"
   ]
  },
  {
   "cell_type": "code",
   "execution_count": 128,
   "metadata": {
    "scrolled": true
   },
   "outputs": [
    {
     "data": {
      "text/plain": [
       "Romance         5\n",
       "Sci-Fi         27\n",
       "Horror          5\n",
       "Comedy         15\n",
       "Thriller       10\n",
       "Animation      10\n",
       "History         2\n",
       "Biography       7\n",
       "Crime           8\n",
       "Adventure      60\n",
       "Western         0\n",
       "Sport           2\n",
       "Drama          29\n",
       "News            0\n",
       "Documentary     3\n",
       "Musical         1\n",
       "War             1\n",
       "Fantasy        23\n",
       "Family          7\n",
       "Mystery         6\n",
       "Reality-TV      0\n",
       "Music           5\n",
       "Action         60\n",
       "dtype: int64"
      ]
     },
     "execution_count": 128,
     "metadata": {},
     "output_type": "execute_result"
    }
   ],
   "source": [
    "# Genres of the the 100 most popular films\n",
    "s_pop_df[list(genre_set)].sum()"
   ]
  },
  {
   "cell_type": "code",
   "execution_count": 163,
   "metadata": {
    "scrolled": true
   },
   "outputs": [
    {
     "data": {
      "text/html": [
       "<div>\n",
       "<style scoped>\n",
       "    .dataframe tbody tr th:only-of-type {\n",
       "        vertical-align: middle;\n",
       "    }\n",
       "\n",
       "    .dataframe tbody tr th {\n",
       "        vertical-align: top;\n",
       "    }\n",
       "\n",
       "    .dataframe thead th {\n",
       "        text-align: right;\n",
       "    }\n",
       "</style>\n",
       "<table border=\"1\" class=\"dataframe\">\n",
       "  <thead>\n",
       "    <tr style=\"text-align: right;\">\n",
       "      <th></th>\n",
       "      <th>count</th>\n",
       "    </tr>\n",
       "  </thead>\n",
       "  <tbody>\n",
       "    <tr>\n",
       "      <th>Adventure</th>\n",
       "      <td>64</td>\n",
       "    </tr>\n",
       "    <tr>\n",
       "      <th>Action</th>\n",
       "      <td>43</td>\n",
       "    </tr>\n",
       "    <tr>\n",
       "      <th>Sci-Fi</th>\n",
       "      <td>23</td>\n",
       "    </tr>\n",
       "    <tr>\n",
       "      <th>Comedy</th>\n",
       "      <td>22</td>\n",
       "    </tr>\n",
       "    <tr>\n",
       "      <th>Drama</th>\n",
       "      <td>21</td>\n",
       "    </tr>\n",
       "    <tr>\n",
       "      <th>Fantasy</th>\n",
       "      <td>20</td>\n",
       "    </tr>\n",
       "    <tr>\n",
       "      <th>Animation</th>\n",
       "      <td>19</td>\n",
       "    </tr>\n",
       "    <tr>\n",
       "      <th>Thriller</th>\n",
       "      <td>9</td>\n",
       "    </tr>\n",
       "    <tr>\n",
       "      <th>Family</th>\n",
       "      <td>9</td>\n",
       "    </tr>\n",
       "    <tr>\n",
       "      <th>Documentary</th>\n",
       "      <td>7</td>\n",
       "    </tr>\n",
       "    <tr>\n",
       "      <th>Music</th>\n",
       "      <td>5</td>\n",
       "    </tr>\n",
       "    <tr>\n",
       "      <th>Biography</th>\n",
       "      <td>5</td>\n",
       "    </tr>\n",
       "    <tr>\n",
       "      <th>Crime</th>\n",
       "      <td>5</td>\n",
       "    </tr>\n",
       "    <tr>\n",
       "      <th>Romance</th>\n",
       "      <td>4</td>\n",
       "    </tr>\n",
       "    <tr>\n",
       "      <th>Musical</th>\n",
       "      <td>3</td>\n",
       "    </tr>\n",
       "    <tr>\n",
       "      <th>Horror</th>\n",
       "      <td>3</td>\n",
       "    </tr>\n",
       "    <tr>\n",
       "      <th>Sport</th>\n",
       "      <td>3</td>\n",
       "    </tr>\n",
       "    <tr>\n",
       "      <th>History</th>\n",
       "      <td>1</td>\n",
       "    </tr>\n",
       "    <tr>\n",
       "      <th>Mystery</th>\n",
       "      <td>1</td>\n",
       "    </tr>\n",
       "    <tr>\n",
       "      <th>News</th>\n",
       "      <td>0</td>\n",
       "    </tr>\n",
       "    <tr>\n",
       "      <th>War</th>\n",
       "      <td>0</td>\n",
       "    </tr>\n",
       "    <tr>\n",
       "      <th>Western</th>\n",
       "      <td>0</td>\n",
       "    </tr>\n",
       "    <tr>\n",
       "      <th>Reality-TV</th>\n",
       "      <td>0</td>\n",
       "    </tr>\n",
       "  </tbody>\n",
       "</table>\n",
       "</div>"
      ],
      "text/plain": [
       "             count\n",
       "Adventure       64\n",
       "Action          43\n",
       "Sci-Fi          23\n",
       "Comedy          22\n",
       "Drama           21\n",
       "Fantasy         20\n",
       "Animation       19\n",
       "Thriller         9\n",
       "Family           9\n",
       "Documentary      7\n",
       "Music            5\n",
       "Biography        5\n",
       "Crime            5\n",
       "Romance          4\n",
       "Musical          3\n",
       "Horror           3\n",
       "Sport            3\n",
       "History          1\n",
       "Mystery          1\n",
       "News             0\n",
       "War              0\n",
       "Western          0\n",
       "Reality-TV       0"
      ]
     },
     "execution_count": 163,
     "metadata": {},
     "output_type": "execute_result"
    }
   ],
   "source": [
    "ROI_df = super_df.sort_values(by=['ROI'], ascending=False)\n",
    "s_ROI_df = ROI_df.iloc[:100]\n",
    "ROI_df = pd.DataFrame(s_ROI_df[list(genre_set)].sum())\n",
    "ROI_df.columns = ['count']\n",
    "ROI_df.sort_values(by='count',ascending=False,inplace=True)\n",
    "ROI_df"
   ]
  },
  {
   "cell_type": "code",
   "execution_count": 164,
   "metadata": {},
   "outputs": [
    {
     "data": {
      "text/html": [
       "<div>\n",
       "<style scoped>\n",
       "    .dataframe tbody tr th:only-of-type {\n",
       "        vertical-align: middle;\n",
       "    }\n",
       "\n",
       "    .dataframe tbody tr th {\n",
       "        vertical-align: top;\n",
       "    }\n",
       "\n",
       "    .dataframe thead th {\n",
       "        text-align: right;\n",
       "    }\n",
       "</style>\n",
       "<table border=\"1\" class=\"dataframe\">\n",
       "  <thead>\n",
       "    <tr style=\"text-align: right;\">\n",
       "      <th></th>\n",
       "      <th>count</th>\n",
       "    </tr>\n",
       "  </thead>\n",
       "  <tbody>\n",
       "    <tr>\n",
       "      <th>Action</th>\n",
       "      <td>60</td>\n",
       "    </tr>\n",
       "    <tr>\n",
       "      <th>Adventure</th>\n",
       "      <td>60</td>\n",
       "    </tr>\n",
       "    <tr>\n",
       "      <th>Drama</th>\n",
       "      <td>29</td>\n",
       "    </tr>\n",
       "    <tr>\n",
       "      <th>Sci-Fi</th>\n",
       "      <td>27</td>\n",
       "    </tr>\n",
       "    <tr>\n",
       "      <th>Fantasy</th>\n",
       "      <td>23</td>\n",
       "    </tr>\n",
       "    <tr>\n",
       "      <th>Comedy</th>\n",
       "      <td>15</td>\n",
       "    </tr>\n",
       "    <tr>\n",
       "      <th>Thriller</th>\n",
       "      <td>10</td>\n",
       "    </tr>\n",
       "    <tr>\n",
       "      <th>Animation</th>\n",
       "      <td>10</td>\n",
       "    </tr>\n",
       "    <tr>\n",
       "      <th>Crime</th>\n",
       "      <td>8</td>\n",
       "    </tr>\n",
       "    <tr>\n",
       "      <th>Biography</th>\n",
       "      <td>7</td>\n",
       "    </tr>\n",
       "    <tr>\n",
       "      <th>Family</th>\n",
       "      <td>7</td>\n",
       "    </tr>\n",
       "    <tr>\n",
       "      <th>Mystery</th>\n",
       "      <td>6</td>\n",
       "    </tr>\n",
       "    <tr>\n",
       "      <th>Music</th>\n",
       "      <td>5</td>\n",
       "    </tr>\n",
       "    <tr>\n",
       "      <th>Romance</th>\n",
       "      <td>5</td>\n",
       "    </tr>\n",
       "    <tr>\n",
       "      <th>Horror</th>\n",
       "      <td>5</td>\n",
       "    </tr>\n",
       "    <tr>\n",
       "      <th>Documentary</th>\n",
       "      <td>3</td>\n",
       "    </tr>\n",
       "    <tr>\n",
       "      <th>History</th>\n",
       "      <td>2</td>\n",
       "    </tr>\n",
       "    <tr>\n",
       "      <th>Sport</th>\n",
       "      <td>2</td>\n",
       "    </tr>\n",
       "    <tr>\n",
       "      <th>Musical</th>\n",
       "      <td>1</td>\n",
       "    </tr>\n",
       "    <tr>\n",
       "      <th>War</th>\n",
       "      <td>1</td>\n",
       "    </tr>\n",
       "    <tr>\n",
       "      <th>News</th>\n",
       "      <td>0</td>\n",
       "    </tr>\n",
       "    <tr>\n",
       "      <th>Western</th>\n",
       "      <td>0</td>\n",
       "    </tr>\n",
       "    <tr>\n",
       "      <th>Reality-TV</th>\n",
       "      <td>0</td>\n",
       "    </tr>\n",
       "  </tbody>\n",
       "</table>\n",
       "</div>"
      ],
      "text/plain": [
       "             count\n",
       "Action          60\n",
       "Adventure       60\n",
       "Drama           29\n",
       "Sci-Fi          27\n",
       "Fantasy         23\n",
       "Comedy          15\n",
       "Thriller        10\n",
       "Animation       10\n",
       "Crime            8\n",
       "Biography        7\n",
       "Family           7\n",
       "Mystery          6\n",
       "Music            5\n",
       "Romance          5\n",
       "Horror           5\n",
       "Documentary      3\n",
       "History          2\n",
       "Sport            2\n",
       "Musical          1\n",
       "War              1\n",
       "News             0\n",
       "Western          0\n",
       "Reality-TV       0"
      ]
     },
     "execution_count": 164,
     "metadata": {},
     "output_type": "execute_result"
    }
   ],
   "source": [
    "pop_df = super_df.sort_values(by=['popularity'], ascending=False)\n",
    "pop_df = pop_df.iloc[:100]\n",
    "pop_df = pd.DataFrame(pop_df[list(genre_set)].sum())\n",
    "pop_df.columns = ['count']\n",
    "pop_df.sort_values(by='count',ascending=False,inplace=True)\n",
    "pop_df"
   ]
  },
  {
   "cell_type": "code",
   "execution_count": 168,
   "metadata": {},
   "outputs": [],
   "source": [
    "def genre_counts(dataframe,column):\n",
    "    df = dataframe.sort_values(by=[column],ascending=False)\n",
    "    df = df.iloc[:100]\n",
    "    df = pd.DataFrame(df[list(genre_set)].sum())\n",
    "    df.columns = ['count']\n",
    "    df.sort_values(by='count',ascending=False,inplace=True)\n",
    "    return df"
   ]
  },
  {
   "cell_type": "code",
   "execution_count": 169,
   "metadata": {},
   "outputs": [
    {
     "data": {
      "text/html": [
       "<div>\n",
       "<style scoped>\n",
       "    .dataframe tbody tr th:only-of-type {\n",
       "        vertical-align: middle;\n",
       "    }\n",
       "\n",
       "    .dataframe tbody tr th {\n",
       "        vertical-align: top;\n",
       "    }\n",
       "\n",
       "    .dataframe thead th {\n",
       "        text-align: right;\n",
       "    }\n",
       "</style>\n",
       "<table border=\"1\" class=\"dataframe\">\n",
       "  <thead>\n",
       "    <tr style=\"text-align: right;\">\n",
       "      <th></th>\n",
       "      <th>count</th>\n",
       "    </tr>\n",
       "  </thead>\n",
       "  <tbody>\n",
       "    <tr>\n",
       "      <th>Action</th>\n",
       "      <td>60</td>\n",
       "    </tr>\n",
       "    <tr>\n",
       "      <th>Adventure</th>\n",
       "      <td>60</td>\n",
       "    </tr>\n",
       "    <tr>\n",
       "      <th>Drama</th>\n",
       "      <td>29</td>\n",
       "    </tr>\n",
       "    <tr>\n",
       "      <th>Sci-Fi</th>\n",
       "      <td>27</td>\n",
       "    </tr>\n",
       "    <tr>\n",
       "      <th>Fantasy</th>\n",
       "      <td>23</td>\n",
       "    </tr>\n",
       "    <tr>\n",
       "      <th>Comedy</th>\n",
       "      <td>15</td>\n",
       "    </tr>\n",
       "    <tr>\n",
       "      <th>Thriller</th>\n",
       "      <td>10</td>\n",
       "    </tr>\n",
       "    <tr>\n",
       "      <th>Animation</th>\n",
       "      <td>10</td>\n",
       "    </tr>\n",
       "    <tr>\n",
       "      <th>Crime</th>\n",
       "      <td>8</td>\n",
       "    </tr>\n",
       "    <tr>\n",
       "      <th>Biography</th>\n",
       "      <td>7</td>\n",
       "    </tr>\n",
       "    <tr>\n",
       "      <th>Family</th>\n",
       "      <td>7</td>\n",
       "    </tr>\n",
       "    <tr>\n",
       "      <th>Mystery</th>\n",
       "      <td>6</td>\n",
       "    </tr>\n",
       "    <tr>\n",
       "      <th>Music</th>\n",
       "      <td>5</td>\n",
       "    </tr>\n",
       "    <tr>\n",
       "      <th>Romance</th>\n",
       "      <td>5</td>\n",
       "    </tr>\n",
       "    <tr>\n",
       "      <th>Horror</th>\n",
       "      <td>5</td>\n",
       "    </tr>\n",
       "    <tr>\n",
       "      <th>Documentary</th>\n",
       "      <td>3</td>\n",
       "    </tr>\n",
       "    <tr>\n",
       "      <th>History</th>\n",
       "      <td>2</td>\n",
       "    </tr>\n",
       "    <tr>\n",
       "      <th>Sport</th>\n",
       "      <td>2</td>\n",
       "    </tr>\n",
       "    <tr>\n",
       "      <th>Musical</th>\n",
       "      <td>1</td>\n",
       "    </tr>\n",
       "    <tr>\n",
       "      <th>War</th>\n",
       "      <td>1</td>\n",
       "    </tr>\n",
       "    <tr>\n",
       "      <th>News</th>\n",
       "      <td>0</td>\n",
       "    </tr>\n",
       "    <tr>\n",
       "      <th>Western</th>\n",
       "      <td>0</td>\n",
       "    </tr>\n",
       "    <tr>\n",
       "      <th>Reality-TV</th>\n",
       "      <td>0</td>\n",
       "    </tr>\n",
       "  </tbody>\n",
       "</table>\n",
       "</div>"
      ],
      "text/plain": [
       "             count\n",
       "Action          60\n",
       "Adventure       60\n",
       "Drama           29\n",
       "Sci-Fi          27\n",
       "Fantasy         23\n",
       "Comedy          15\n",
       "Thriller        10\n",
       "Animation       10\n",
       "Crime            8\n",
       "Biography        7\n",
       "Family           7\n",
       "Mystery          6\n",
       "Music            5\n",
       "Romance          5\n",
       "Horror           5\n",
       "Documentary      3\n",
       "History          2\n",
       "Sport            2\n",
       "Musical          1\n",
       "War              1\n",
       "News             0\n",
       "Western          0\n",
       "Reality-TV       0"
      ]
     },
     "execution_count": 169,
     "metadata": {},
     "output_type": "execute_result"
    }
   ],
   "source": [
    "genre_counts(super_df,'popularity')"
   ]
  },
  {
   "cell_type": "code",
   "execution_count": 170,
   "metadata": {},
   "outputs": [
    {
     "data": {
      "text/html": [
       "<div>\n",
       "<style scoped>\n",
       "    .dataframe tbody tr th:only-of-type {\n",
       "        vertical-align: middle;\n",
       "    }\n",
       "\n",
       "    .dataframe tbody tr th {\n",
       "        vertical-align: top;\n",
       "    }\n",
       "\n",
       "    .dataframe thead th {\n",
       "        text-align: right;\n",
       "    }\n",
       "</style>\n",
       "<table border=\"1\" class=\"dataframe\">\n",
       "  <thead>\n",
       "    <tr style=\"text-align: right;\">\n",
       "      <th></th>\n",
       "      <th>count</th>\n",
       "    </tr>\n",
       "  </thead>\n",
       "  <tbody>\n",
       "    <tr>\n",
       "      <th>Drama</th>\n",
       "      <td>57</td>\n",
       "    </tr>\n",
       "    <tr>\n",
       "      <th>Thriller</th>\n",
       "      <td>16</td>\n",
       "    </tr>\n",
       "    <tr>\n",
       "      <th>Romance</th>\n",
       "      <td>15</td>\n",
       "    </tr>\n",
       "    <tr>\n",
       "      <th>Documentary</th>\n",
       "      <td>15</td>\n",
       "    </tr>\n",
       "    <tr>\n",
       "      <th>Comedy</th>\n",
       "      <td>15</td>\n",
       "    </tr>\n",
       "    <tr>\n",
       "      <th>Action</th>\n",
       "      <td>13</td>\n",
       "    </tr>\n",
       "    <tr>\n",
       "      <th>Horror</th>\n",
       "      <td>9</td>\n",
       "    </tr>\n",
       "    <tr>\n",
       "      <th>Biography</th>\n",
       "      <td>9</td>\n",
       "    </tr>\n",
       "    <tr>\n",
       "      <th>Crime</th>\n",
       "      <td>7</td>\n",
       "    </tr>\n",
       "    <tr>\n",
       "      <th>Adventure</th>\n",
       "      <td>7</td>\n",
       "    </tr>\n",
       "    <tr>\n",
       "      <th>Mystery</th>\n",
       "      <td>5</td>\n",
       "    </tr>\n",
       "    <tr>\n",
       "      <th>History</th>\n",
       "      <td>5</td>\n",
       "    </tr>\n",
       "    <tr>\n",
       "      <th>Sci-Fi</th>\n",
       "      <td>4</td>\n",
       "    </tr>\n",
       "    <tr>\n",
       "      <th>Music</th>\n",
       "      <td>4</td>\n",
       "    </tr>\n",
       "    <tr>\n",
       "      <th>Animation</th>\n",
       "      <td>2</td>\n",
       "    </tr>\n",
       "    <tr>\n",
       "      <th>War</th>\n",
       "      <td>2</td>\n",
       "    </tr>\n",
       "    <tr>\n",
       "      <th>Fantasy</th>\n",
       "      <td>2</td>\n",
       "    </tr>\n",
       "    <tr>\n",
       "      <th>Musical</th>\n",
       "      <td>1</td>\n",
       "    </tr>\n",
       "    <tr>\n",
       "      <th>Family</th>\n",
       "      <td>1</td>\n",
       "    </tr>\n",
       "    <tr>\n",
       "      <th>News</th>\n",
       "      <td>0</td>\n",
       "    </tr>\n",
       "    <tr>\n",
       "      <th>Western</th>\n",
       "      <td>0</td>\n",
       "    </tr>\n",
       "    <tr>\n",
       "      <th>Reality-TV</th>\n",
       "      <td>0</td>\n",
       "    </tr>\n",
       "    <tr>\n",
       "      <th>Sport</th>\n",
       "      <td>0</td>\n",
       "    </tr>\n",
       "  </tbody>\n",
       "</table>\n",
       "</div>"
      ],
      "text/plain": [
       "             count\n",
       "Drama           57\n",
       "Thriller        16\n",
       "Romance         15\n",
       "Documentary     15\n",
       "Comedy          15\n",
       "Action          13\n",
       "Horror           9\n",
       "Biography        9\n",
       "Crime            7\n",
       "Adventure        7\n",
       "Mystery          5\n",
       "History          5\n",
       "Sci-Fi           4\n",
       "Music            4\n",
       "Animation        2\n",
       "War              2\n",
       "Fantasy          2\n",
       "Musical          1\n",
       "Family           1\n",
       "News             0\n",
       "Western          0\n",
       "Reality-TV       0\n",
       "Sport            0"
      ]
     },
     "execution_count": 170,
     "metadata": {},
     "output_type": "execute_result"
    }
   ],
   "source": [
    "genre_counts(super_df,'vote_average')"
   ]
  },
  {
   "cell_type": "code",
   "execution_count": 171,
   "metadata": {},
   "outputs": [
    {
     "data": {
      "text/html": [
       "<div>\n",
       "<style scoped>\n",
       "    .dataframe tbody tr th:only-of-type {\n",
       "        vertical-align: middle;\n",
       "    }\n",
       "\n",
       "    .dataframe tbody tr th {\n",
       "        vertical-align: top;\n",
       "    }\n",
       "\n",
       "    .dataframe thead th {\n",
       "        text-align: right;\n",
       "    }\n",
       "</style>\n",
       "<table border=\"1\" class=\"dataframe\">\n",
       "  <thead>\n",
       "    <tr style=\"text-align: right;\">\n",
       "      <th></th>\n",
       "      <th>count</th>\n",
       "    </tr>\n",
       "  </thead>\n",
       "  <tbody>\n",
       "    <tr>\n",
       "      <th>Drama</th>\n",
       "      <td>50</td>\n",
       "    </tr>\n",
       "    <tr>\n",
       "      <th>Documentary</th>\n",
       "      <td>26</td>\n",
       "    </tr>\n",
       "    <tr>\n",
       "      <th>Comedy</th>\n",
       "      <td>18</td>\n",
       "    </tr>\n",
       "    <tr>\n",
       "      <th>Thriller</th>\n",
       "      <td>13</td>\n",
       "    </tr>\n",
       "    <tr>\n",
       "      <th>Adventure</th>\n",
       "      <td>13</td>\n",
       "    </tr>\n",
       "    <tr>\n",
       "      <th>Action</th>\n",
       "      <td>11</td>\n",
       "    </tr>\n",
       "    <tr>\n",
       "      <th>Crime</th>\n",
       "      <td>7</td>\n",
       "    </tr>\n",
       "    <tr>\n",
       "      <th>Music</th>\n",
       "      <td>7</td>\n",
       "    </tr>\n",
       "    <tr>\n",
       "      <th>Romance</th>\n",
       "      <td>6</td>\n",
       "    </tr>\n",
       "    <tr>\n",
       "      <th>Biography</th>\n",
       "      <td>6</td>\n",
       "    </tr>\n",
       "    <tr>\n",
       "      <th>Family</th>\n",
       "      <td>5</td>\n",
       "    </tr>\n",
       "    <tr>\n",
       "      <th>Sci-Fi</th>\n",
       "      <td>4</td>\n",
       "    </tr>\n",
       "    <tr>\n",
       "      <th>Animation</th>\n",
       "      <td>4</td>\n",
       "    </tr>\n",
       "    <tr>\n",
       "      <th>Musical</th>\n",
       "      <td>3</td>\n",
       "    </tr>\n",
       "    <tr>\n",
       "      <th>Mystery</th>\n",
       "      <td>3</td>\n",
       "    </tr>\n",
       "    <tr>\n",
       "      <th>Sport</th>\n",
       "      <td>3</td>\n",
       "    </tr>\n",
       "    <tr>\n",
       "      <th>War</th>\n",
       "      <td>2</td>\n",
       "    </tr>\n",
       "    <tr>\n",
       "      <th>Western</th>\n",
       "      <td>1</td>\n",
       "    </tr>\n",
       "    <tr>\n",
       "      <th>History</th>\n",
       "      <td>1</td>\n",
       "    </tr>\n",
       "    <tr>\n",
       "      <th>Horror</th>\n",
       "      <td>1</td>\n",
       "    </tr>\n",
       "    <tr>\n",
       "      <th>News</th>\n",
       "      <td>0</td>\n",
       "    </tr>\n",
       "    <tr>\n",
       "      <th>Fantasy</th>\n",
       "      <td>0</td>\n",
       "    </tr>\n",
       "    <tr>\n",
       "      <th>Reality-TV</th>\n",
       "      <td>0</td>\n",
       "    </tr>\n",
       "  </tbody>\n",
       "</table>\n",
       "</div>"
      ],
      "text/plain": [
       "             count\n",
       "Drama           50\n",
       "Documentary     26\n",
       "Comedy          18\n",
       "Thriller        13\n",
       "Adventure       13\n",
       "Action          11\n",
       "Crime            7\n",
       "Music            7\n",
       "Romance          6\n",
       "Biography        6\n",
       "Family           5\n",
       "Sci-Fi           4\n",
       "Animation        4\n",
       "Musical          3\n",
       "Mystery          3\n",
       "Sport            3\n",
       "War              2\n",
       "Western          1\n",
       "History          1\n",
       "Horror           1\n",
       "News             0\n",
       "Fantasy          0\n",
       "Reality-TV       0"
      ]
     },
     "execution_count": 171,
     "metadata": {},
     "output_type": "execute_result"
    }
   ],
   "source": [
    "genre_counts(super_df,'averagerating')"
   ]
  },
  {
   "cell_type": "code",
   "execution_count": 115,
   "metadata": {},
   "outputs": [],
   "source": [
    "# ACTOR, DIRECTOR, PRODUCER ANALYSIS"
   ]
  },
  {
   "cell_type": "code",
   "execution_count": null,
   "metadata": {},
   "outputs": [],
   "source": [
    "#Creates a dataframe of 5661 unique movies\n",
    "# super_df = budget_tconst_df.merge(box_gross_tconst_df, how='outer', on='title_id')"
   ]
  },
  {
   "cell_type": "code",
   "execution_count": 9,
   "metadata": {},
   "outputs": [],
   "source": [
    "# Creates two dictionaries translating every IMDB movie code into 'Primary Title' and another to convert it back \n",
    "# that can be used with other dataframes\n",
    "# creates list of movies using dictionary values to check other tables against\n",
    "\n",
    "# df_3_name = df_3.loc[:, ['tconst','primary_title']]\n",
    "\n",
    "# tt_to_movie_dict = {}\n",
    "# movie_to_tt_dict = {}\n",
    "\n",
    "# for i in df_3_name.index:\n",
    "#     tt_to_movie_dict[df_3_name.iloc[i]['tconst']] = df_3_name.iloc[i]['primary_title']\n",
    "#     movie_to_tt_dict[clean_title(df_3_name.iloc[i]['primary_title'])] = df_3_name.iloc[i]['tconst']\n",
    "    \n",
    "# movie_list = list(tt_to_movie_dict.values())"
   ]
  },
  {
   "cell_type": "code",
   "execution_count": 98,
   "metadata": {},
   "outputs": [
    {
     "name": "stdout",
     "output_type": "stream",
     "text": [
      "<class 'pandas.core.frame.DataFrame'>\n",
      "RangeIndex: 73856 entries, 0 to 73855\n",
      "Data columns (total 3 columns):\n",
      "title_id         73856 non-null object\n",
      "averagerating    73856 non-null float64\n",
      "numvotes         73856 non-null int64\n",
      "dtypes: float64(1), int64(1), object(1)\n",
      "memory usage: 1.7+ MB\n"
     ]
    }
   ],
   "source": [
    "imdb_ratings_df.info()"
   ]
  },
  {
   "cell_type": "code",
   "execution_count": 13,
   "metadata": {},
   "outputs": [],
   "source": [
    "\n",
    "# def movie_matcher(df, movie_list=clean_movies):\n",
    "    \n",
    "#     '''\n",
    "#     Takes a dataframe as input as well as a movie list. The dataframe must have a column called 'clean_title' and 'title' \n",
    "#     for this to work. The default movie list is clean_movies list. It returns the percentage of lost titles as well as \n",
    "#     which titles didn't match with anything\n",
    "\n",
    "#     '''\n",
    "    \n",
    "#     missing_titles = []\n",
    "\n",
    "#     for i in df.index:\n",
    "#         if df.clean_title.iloc[i] not in movie_list:\n",
    "#             missing_titles.append(df.title.iloc[i])\n",
    "\n",
    "#     print(len(missing_titles)/len(df.index))\n",
    "#     print(len(missing_titles))\n",
    "#     return missing_titles"
   ]
  },
  {
   "cell_type": "code",
   "execution_count": null,
   "metadata": {},
   "outputs": [],
   "source": []
  },
  {
   "cell_type": "code",
   "execution_count": 126,
   "metadata": {},
   "outputs": [],
   "source": [
    "df_1_movie_list = separate_values(df_1,'known_for_titles',',')"
   ]
  },
  {
   "cell_type": "code",
   "execution_count": 129,
   "metadata": {},
   "outputs": [],
   "source": [
    "df_2_by_movie = df_2.set_index('title_id')"
   ]
  },
  {
   "cell_type": "code",
   "execution_count": 119,
   "metadata": {},
   "outputs": [],
   "source": [
    "genre_list = x"
   ]
  },
  {
   "cell_type": "code",
   "execution_count": 120,
   "metadata": {},
   "outputs": [
    {
     "data": {
      "text/plain": [
       "{'Action',\n",
       " 'Adult',\n",
       " 'Adventure',\n",
       " 'Animation',\n",
       " 'Biography',\n",
       " 'Comedy',\n",
       " 'Crime',\n",
       " 'Documentary',\n",
       " 'Drama',\n",
       " 'Family',\n",
       " 'Fantasy',\n",
       " 'Game-Show',\n",
       " 'History',\n",
       " 'Horror',\n",
       " 'Music',\n",
       " 'Musical',\n",
       " 'Mystery',\n",
       " 'News',\n",
       " 'Reality-TV',\n",
       " 'Romance',\n",
       " 'Sci-Fi',\n",
       " 'Short',\n",
       " 'Sport',\n",
       " 'Talk-Show',\n",
       " 'Thriller',\n",
       " 'War',\n",
       " 'Western'}"
      ]
     },
     "execution_count": 120,
     "metadata": {},
     "output_type": "execute_result"
    }
   ],
   "source": [
    "genre_list"
   ]
  },
  {
   "cell_type": "code",
   "execution_count": 8,
   "metadata": {},
   "outputs": [],
   "source": [
    "actors_df = df_1.loc[df_1['primary_profession'] == 'actor']"
   ]
  },
  {
   "cell_type": "code",
   "execution_count": 9,
   "metadata": {},
   "outputs": [
    {
     "data": {
      "text/html": [
       "<div>\n",
       "<style scoped>\n",
       "    .dataframe tbody tr th:only-of-type {\n",
       "        vertical-align: middle;\n",
       "    }\n",
       "\n",
       "    .dataframe tbody tr th {\n",
       "        vertical-align: top;\n",
       "    }\n",
       "\n",
       "    .dataframe thead th {\n",
       "        text-align: right;\n",
       "    }\n",
       "</style>\n",
       "<table border=\"1\" class=\"dataframe\">\n",
       "  <thead>\n",
       "    <tr style=\"text-align: right;\">\n",
       "      <th></th>\n",
       "      <th>nconst</th>\n",
       "      <th>primary_name</th>\n",
       "      <th>birth_year</th>\n",
       "      <th>death_year</th>\n",
       "      <th>primary_profession</th>\n",
       "      <th>known_for_titles</th>\n",
       "    </tr>\n",
       "  </thead>\n",
       "  <tbody>\n",
       "    <tr>\n",
       "      <th>6</th>\n",
       "      <td>nm0063198</td>\n",
       "      <td>Bayou</td>\n",
       "      <td>NaN</td>\n",
       "      <td>NaN</td>\n",
       "      <td>actor</td>\n",
       "      <td>tt6579724,tt0093116</td>\n",
       "    </tr>\n",
       "    <tr>\n",
       "      <th>17</th>\n",
       "      <td>nm0066897</td>\n",
       "      <td>Mohammad-Ali Behboudi</td>\n",
       "      <td>1956.0</td>\n",
       "      <td>NaN</td>\n",
       "      <td>actor</td>\n",
       "      <td>tt6836462,tt4591834,tt0375911,tt2101473</td>\n",
       "    </tr>\n",
       "    <tr>\n",
       "      <th>20</th>\n",
       "      <td>nm0067983</td>\n",
       "      <td>Krunoslav Belko</td>\n",
       "      <td>1971.0</td>\n",
       "      <td>NaN</td>\n",
       "      <td>actor</td>\n",
       "      <td>tt1930421,tt0289360,tt0210629,tt3839316</td>\n",
       "    </tr>\n",
       "    <tr>\n",
       "      <th>38</th>\n",
       "      <td>nm0073426</td>\n",
       "      <td>Laxmikant Berde</td>\n",
       "      <td>1954.0</td>\n",
       "      <td>2004.0</td>\n",
       "      <td>actor</td>\n",
       "      <td>tt0260066,tt0155719,tt0215079,tt0481241</td>\n",
       "    </tr>\n",
       "    <tr>\n",
       "      <th>51</th>\n",
       "      <td>nm0081255</td>\n",
       "      <td>Andreas Bieber</td>\n",
       "      <td>1966.0</td>\n",
       "      <td>NaN</td>\n",
       "      <td>actor</td>\n",
       "      <td>tt1822255,tt1163326,tt0108985,tt0164630</td>\n",
       "    </tr>\n",
       "  </tbody>\n",
       "</table>\n",
       "</div>"
      ],
      "text/plain": [
       "       nconst           primary_name  birth_year  death_year  \\\n",
       "6   nm0063198                  Bayou         NaN         NaN   \n",
       "17  nm0066897  Mohammad-Ali Behboudi      1956.0         NaN   \n",
       "20  nm0067983        Krunoslav Belko      1971.0         NaN   \n",
       "38  nm0073426        Laxmikant Berde      1954.0      2004.0   \n",
       "51  nm0081255         Andreas Bieber      1966.0         NaN   \n",
       "\n",
       "   primary_profession                         known_for_titles  \n",
       "6               actor                      tt6579724,tt0093116  \n",
       "17              actor  tt6836462,tt4591834,tt0375911,tt2101473  \n",
       "20              actor  tt1930421,tt0289360,tt0210629,tt3839316  \n",
       "38              actor  tt0260066,tt0155719,tt0215079,tt0481241  \n",
       "51              actor  tt1822255,tt1163326,tt0108985,tt0164630  "
      ]
     },
     "execution_count": 9,
     "metadata": {},
     "output_type": "execute_result"
    }
   ],
   "source": [
    "actors_df.head()"
   ]
  },
  {
   "cell_type": "code",
   "execution_count": 67,
   "metadata": {},
   "outputs": [
    {
     "data": {
      "text/html": [
       "<div>\n",
       "<style scoped>\n",
       "    .dataframe tbody tr th:only-of-type {\n",
       "        vertical-align: middle;\n",
       "    }\n",
       "\n",
       "    .dataframe tbody tr th {\n",
       "        vertical-align: top;\n",
       "    }\n",
       "\n",
       "    .dataframe thead th {\n",
       "        text-align: right;\n",
       "    }\n",
       "</style>\n",
       "<table border=\"1\" class=\"dataframe\">\n",
       "  <thead>\n",
       "    <tr style=\"text-align: right;\">\n",
       "      <th></th>\n",
       "      <th>title</th>\n",
       "      <th>studio</th>\n",
       "      <th>domestic_gross</th>\n",
       "      <th>foreign_gross</th>\n",
       "      <th>year</th>\n",
       "    </tr>\n",
       "  </thead>\n",
       "  <tbody>\n",
       "    <tr>\n",
       "      <th>1476</th>\n",
       "      <td>Storage 24</td>\n",
       "      <td>Magn.</td>\n",
       "      <td>100.0</td>\n",
       "      <td>NaN</td>\n",
       "      <td>2013</td>\n",
       "    </tr>\n",
       "  </tbody>\n",
       "</table>\n",
       "</div>"
      ],
      "text/plain": [
       "           title studio  domestic_gross foreign_gross  year\n",
       "1476  Storage 24  Magn.           100.0           NaN  2013"
      ]
     },
     "execution_count": 67,
     "metadata": {},
     "output_type": "execute_result"
    }
   ],
   "source": [
    "df_4.loc[df_4['domestic_gross'] == df_4['domestic_gross'].min()]"
   ]
  },
  {
   "cell_type": "code",
   "execution_count": 68,
   "metadata": {},
   "outputs": [
    {
     "data": {
      "text/plain": [
       "array([2010, 2011, 2012, 2013, 2014, 2015, 2016, 2017, 2018])"
      ]
     },
     "execution_count": 68,
     "metadata": {},
     "output_type": "execute_result"
    }
   ],
   "source": [
    "df_4.year.unique()"
   ]
  },
  {
   "cell_type": "code",
   "execution_count": null,
   "metadata": {},
   "outputs": [],
   "source": []
  }
 ],
 "metadata": {
  "kernelspec": {
   "display_name": "learn-env",
   "language": "python",
   "name": "learn-env"
  },
  "language_info": {
   "codemirror_mode": {
    "name": "ipython",
    "version": 3
   },
   "file_extension": ".py",
   "mimetype": "text/x-python",
   "name": "python",
   "nbconvert_exporter": "python",
   "pygments_lexer": "ipython3",
   "version": "3.6.9"
  }
 },
 "nbformat": 4,
 "nbformat_minor": 4
}
